{
 "cells": [
  {
   "cell_type": "markdown",
   "id": "d20338d3-3672-4918-9870-d7c70b607409",
   "metadata": {},
   "source": [
    "# Imports and utility functions"
   ]
  },
  {
   "cell_type": "code",
   "execution_count": 30,
   "id": "01f2098b-5d62-4eab-ba1c-442b1eecca92",
   "metadata": {},
   "outputs": [],
   "source": [
    "from IPython import display\n",
    "import matplotlib.pyplot as plt\n",
    "import numpy as np\n",
    "import time, glob, gc, os, tifffile, cv2\n",
    "import pandas as pd\n",
    "import seaborn as sns\n",
    "import xarray as xr\n",
    "import tpae.data.ingest as ti\n",
    "\n",
    "# define parameters\n",
    "resolution = 10 # desired size of each pixel in microns\n",
    "k = 10\n",
    "repname = f'pca_k={k}_harmony'\n",
    "\n",
    "# define and create directories\n",
    "datadir = f'../../UC/UC-data/{resolution}u'\n",
    "rawpixelsdir = f'{datadir}/../raw/'\n",
    "downsampledpixelsdir = f'{datadir}/counts'\n",
    "normedpixelsdir = f'{datadir}/normalized'\n",
    "masksdir = f'{datadir}/masks'\n",
    "processeddir = f'{datadir}/{repname}'\n",
    "os.makedirs(datadir, exist_ok=True)\n",
    "os.makedirs(downsampledpixelsdir, exist_ok=True)\n",
    "os.makedirs(normedpixelsdir, exist_ok=True)\n",
    "os.makedirs(masksdir, exist_ok=True)\n",
    "os.makedirs(processeddir, exist_ok=True)\n",
    "\n",
    "# read in markers and define marker subsets\n",
    "with open(f'{datadir}/../channelNames.txt', 'r') as file: \n",
    "    markers = file.read().splitlines()\n",
    "blanks = [marker for marker in markers if 'blank' in marker]\n",
    "negctrls = [marker for marker in markers if 'empty' in marker]\n",
    "stains = [marker for marker in markers if 'HOECHST' in marker or 'HOCHST' in marker or 'DRAQ5' in marker]\n",
    "\n",
    "# define files to process\n",
    "files = glob.glob(f'{rawpixelsdir}/run[1-36-8]/*.tif') #skipping runs 4 and 5 per authors' instructions"
   ]
  },
  {
   "cell_type": "markdown",
   "id": "251f59d7-90a8-40ce-aa73-e7876f4615c5",
   "metadata": {},
   "source": [
    "# downsample original images"
   ]
  },
  {
   "cell_type": "code",
   "execution_count": 32,
   "id": "f0386e27-fe81-47ec-90d4-043ec5367e2b",
   "metadata": {},
   "outputs": [],
   "source": [
    "metadata = pd.read_csv(f'{datadir}/../2024_10_16_UC_Patient_Metadata.csv')\n",
    "import re\n",
    "def fullpath_to_sampleinfo(f):\n",
    "    run = int(os.path.basename(os.path.dirname(file))[3:])\n",
    "    reg = int(os.path.basename(re.sub(\"00\", \"\", file.split(\"_\")[0]))[3:])\n",
    "    cond = (metadata['Run#'] == run) & (metadata['Region #'] == reg)\n",
    "    if cond.sum() > 0:\n",
    "        return metadata[cond].iloc[0]\n",
    "    else:\n",
    "        print(f'skipping {file} because no metadata were found')\n",
    "        return None"
   ]
  },
  {
   "cell_type": "code",
   "execution_count": 33,
   "id": "f7369952-46df-4c04-aaae-b60e9ae8b462",
   "metadata": {},
   "outputs": [],
   "source": [
    "orig_pixel_size = 0.75488\n",
    "downsample_factor = int(resolution//orig_pixel_size)"
   ]
  },
  {
   "cell_type": "code",
   "execution_count": 35,
   "id": "90feda8d-9214-4c65-a8e7-edaca20fffd4",
   "metadata": {},
   "outputs": [
    {
     "name": "stderr",
     "output_type": "stream",
     "text": [
      " 67%|██████████████████████████████████████████▍                    | 29/43 [06:00<02:09,  9.26s/it]"
     ]
    },
    {
     "name": "stdout",
     "output_type": "stream",
     "text": [
      "skipping /n/data1/hms/dbmi/raychaudhuri/lab/lakshay/uc/uc-data/raw/run6/reg009_montage-005.tif because no metadata were found\n"
     ]
    },
    {
     "name": "stderr",
     "output_type": "stream",
     "text": [
      "100%|███████████████████████████████████████████████████████████████| 43/43 [09:04<00:00, 12.67s/it]\n"
     ]
    }
   ],
   "source": [
    "for file in ti.pb(files):\n",
    "    sampleinfo = fullpath_to_sampleinfo(file)\n",
    "    if sampleinfo is not None:\n",
    "        sample = tifffile.TiffFile(file).asarray()\n",
    "        sample = sample.reshape((-1, sample.shape[2], sample.shape[3])).transpose(1, 2, 0)\n",
    "        sample = ti.hiresarray_to_downsampledxarray(sample,\n",
    "                                                    sampleinfo['NEW Label'],\n",
    "                                                    downsample_factor, orig_pixel_size, markers)\n",
    "        sample.attrs['sid'] = sampleinfo['NEW Label']\n",
    "        sample.attrs['donor'] = sampleinfo['Patient.ID']\n",
    "        sample.to_netcdf(f'{downsampledpixelsdir}/{sample.attrs[\"sid\"]}.nc', encoding={sample.name: ti.compression}, engine=\"netcdf4\")\n",
    "    \n",
    "    gc.collect()"
   ]
  },
  {
   "cell_type": "markdown",
   "id": "e462d396-8312-486a-ab5c-e6f581120bd8",
   "metadata": {},
   "source": [
    "# create masks and normalize"
   ]
  },
  {
   "cell_type": "code",
   "execution_count": null,
   "id": "fcd0c8b1-62b2-4756-91d7-5f915152792f",
   "metadata": {},
   "outputs": [],
   "source": [
    "def get_foreground(s):\n",
    "    if s.name == '300-0529_Scan1':\n",
    "        s = s.where(s.x < 12500, 0)\n",
    "    return ti.foreground_mask_ihc(s, real_markers, neg_ctrls, 0.1, 12, blur_width=5)\n",
    "ti.write_masks(downsampledpixelsdir, masksdir, get_foreground, sids)"
   ]
  },
  {
   "cell_type": "code",
   "execution_count": null,
   "id": "a19c8526-46f2-4045-bfb3-7629e21e5a4a",
   "metadata": {},
   "outputs": [],
   "source": [
    "def transform(X):\n",
    "    return (X[:,:-1]) / (1+X[:,-1])[:,None]\n",
    "\n",
    "def get_sumstats(pixels):\n",
    "    pixels = transform(pixels)\n",
    "    ntranscripts = pixels.sum(axis=1, dtype=np.float64)\n",
    "    med_ntranscripts = np.median(ntranscripts)\n",
    "    pixels = np.log1p(med_ntranscripts * pixels / (ntranscripts[:,None] + 1e-6)) # adding to denominator in case pixel is all 0s\n",
    "    means = pixels.mean(axis=0, dtype=np.float64)\n",
    "    stds = pixels.std(axis=0, dtype=np.float64)\n",
    "    return {'means':means, 'stds':stds, 'med_ntranscripts':med_ntranscripts}\n",
    "\n",
    "def normalize(mask, s, med_ntranscripts=None, means=None, stds=None):\n",
    "    s = s.where(mask, other=0)\n",
    "    pl = ti.xr_to_pixellist(s, mask)\n",
    "    pl = transform(pl)\n",
    "    pl = np.log1p(med_ntranscripts * pl / (pl.sum(axis=1)[:,None] + 1e-6)) # adding to denominator in case pixel is all 0s\n",
    "    pl -= means\n",
    "    pl /= stds\n",
    "    s = s.sel(marker=markers[:-1])\n",
    "    ti.set_pixels(s, mask, pl)\n",
    "    s.attrs['med_ntranscripts'] = med_ntranscripts\n",
    "    s.attrs['means'] = means\n",
    "    s.attrs['stds'] = stds\n",
    "    return s\n",
    "\n",
    "ti.normalize_allsamples(downsampledpixelsdir, masksdir, normedpixelsdir, sids,\n",
    "                               get_sumstats=get_sumstats,\n",
    "                               normalize=normalize)"
   ]
  },
  {
   "cell_type": "markdown",
   "id": "b0f3cc50-548f-4810-8161-6bcdf752feba",
   "metadata": {},
   "source": [
    "# reduce to 5 meta-markers using PCA"
   ]
  },
  {
   "cell_type": "code",
   "execution_count": null,
   "id": "36dd3fd6-61fd-40fb-8353-b067c5453cbf",
   "metadata": {},
   "outputs": [],
   "source": [
    "# create metapixels for more accurate PCA\n",
    "metapixels, npixels = ti.metapixels_allsamples(normedpixelsdir, masksdir, sids)"
   ]
  },
  {
   "cell_type": "code",
   "execution_count": null,
   "id": "945023f4-bb61-43bb-8338-46401d686b3e",
   "metadata": {},
   "outputs": [],
   "source": [
    "# PCA the metapixels\n",
    "loadings, C, allmp = ti.pca_metapixels(metapixels.values(), k)\n",
    "loadings.to_feather(f'{processeddir}/_pcloadings.feather')\n",
    "del metapixels, allmp; gc.collect()"
   ]
  },
  {
   "cell_type": "code",
   "execution_count": null,
   "id": "3b4626f3-e1a2-4509-a785-f31f15a479f8",
   "metadata": {},
   "outputs": [],
   "source": [
    "# apply the PC loadings to plain pixels\n",
    "allpixels_pca = ti.pca_pixels(normedpixelsdir, masksdir,\n",
    "                              pd.read_feather(f'{processeddir}/_pcloadings.feather'), sids)\n",
    "allpixels_pca.to_feather(f'{processeddir}/_allpixels_pca.feather')"
   ]
  },
  {
   "cell_type": "markdown",
   "id": "c302f49b-71ab-41c8-9e75-5e9e905d898b",
   "metadata": {},
   "source": [
    "# Run harmony on PCA'd pixels"
   ]
  },
  {
   "cell_type": "code",
   "execution_count": null,
   "id": "f0c348b7-8c7a-49e9-84de-326110adca6a",
   "metadata": {},
   "outputs": [],
   "source": [
    "# run harmony\n",
    "allpixels_pca = pd.read_feather(f'{processeddir}/_allpixels_pca.feather')\n",
    "ti.harmonize(allpixels_pca, processeddir)"
   ]
  },
  {
   "cell_type": "code",
   "execution_count": null,
   "id": "174c26f4-5056-4057-84bb-0bf16da134c5",
   "metadata": {},
   "outputs": [],
   "source": [
    "# read in result and write individual samples\n",
    "harmpixels = pd.read_feather(f'{processeddir}/_allpixels_pca_harmony.feather')\n",
    "ti.visualize_pixels(harmpixels, 50000, ['sid'])\n",
    "ti.write_harmonized(masksdir, processeddir, harmpixels, sids)"
   ]
  },
  {
   "cell_type": "markdown",
   "id": "104f5a60-97f1-44a1-9a24-915271b6145e",
   "metadata": {},
   "source": [
    "# Sanity checks"
   ]
  },
  {
   "cell_type": "code",
   "execution_count": null,
   "id": "bacf746a-ddcd-4e77-a4a9-3005de363563",
   "metadata": {},
   "outputs": [],
   "source": [
    "# all pcs of one sample\n",
    "s = xr.open_dataarray(f'{processeddir}/{sids[0]}.nc').astype(np.float32)\n",
    "s.plot(col='marker', col_wrap=5, vmin=-3, vmax=3, cmap='seismic')"
   ]
  },
  {
   "cell_type": "code",
   "execution_count": null,
   "id": "b9793f4f-9ab0-415f-9c50-4fbe4a5af85f",
   "metadata": {},
   "outputs": [],
   "source": [
    "# histogram of each pc\n",
    "harmpixels = pd.read_feather(f'{processeddir}/_allpixels_pca_harmony.feather')\n",
    "plt.figure(figsize=(12,9))\n",
    "for i in range(k):\n",
    "    print(i, end='')\n",
    "    plt.subplot(4, 3, i+1)\n",
    "    plt.hist(harmpixels.values[:,i], bins=1000)\n",
    "plt.tight_layout()\n",
    "plt.show()"
   ]
  },
  {
   "cell_type": "code",
   "execution_count": null,
   "id": "cf973b02-2768-47f5-ac81-927cce329f88",
   "metadata": {
    "tags": []
   },
   "outputs": [],
   "source": [
    "# PC1 of several samples\n",
    "from IPython.display import display, clear_output\n",
    "fig, axs = plt.subplots(len(sids[::5])//5 + 1, 5, figsize=(16, 4*(len(sids[::5])//5 + 1)))\n",
    "for sid, ax in zip(sids[::3], axs.flatten()):\n",
    "    s = xr.open_dataarray(f'{processeddir}/{sid}.nc').astype(np.float32)\n",
    "    vmax = np.percentile(np.abs(s.sel(marker='hPC1').data), 99)\n",
    "    s.sel(marker='hPC1').plot(ax=ax, cmap='seismic', vmin=-vmax, vmax=vmax, add_colorbar=False)\n",
    "    ax.set_title(sid)\n",
    "    plt.tight_layout(); clear_output(wait=True); display(fig)\n",
    "    gc.collect()\n",
    "plt.close()"
   ]
  },
  {
   "cell_type": "code",
   "execution_count": null,
   "id": "4a41f7c1-2c1a-4f15-bc30-2bfcc768d1d9",
   "metadata": {},
   "outputs": [],
   "source": []
  }
 ],
 "metadata": {
  "kernelspec": {
   "display_name": "Python 3 (ipykernel)",
   "language": "python",
   "name": "python3"
  },
  "language_info": {
   "codemirror_mode": {
    "name": "ipython",
    "version": 3
   },
   "file_extension": ".py",
   "mimetype": "text/x-python",
   "name": "python",
   "nbconvert_exporter": "python",
   "pygments_lexer": "ipython3",
   "version": "3.11.5"
  }
 },
 "nbformat": 4,
 "nbformat_minor": 5
}
